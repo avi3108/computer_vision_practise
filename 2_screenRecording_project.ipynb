{
 "cells": [
  {
   "cell_type": "code",
   "execution_count": 2,
   "metadata": {},
   "outputs": [],
   "source": [
    "import cv2\n",
    "import numpy as np\n",
    "import pyautogui as p "
   ]
  },
  {
   "cell_type": "code",
   "execution_count": null,
   "metadata": {},
   "outputs": [],
   "source": [
    "\n",
    "rs = p.size()\n",
    "Video = cv2.VideoWriter(\"Myrec.avi\",cv2.VideoWriter_fourcc(*\"MJPG\"),10.0,rs)\n",
    "cv2.namedWindow(\"my live screen recording\",cv2.WINDOW_NORMAL)\n",
    "while True:\n",
    "    img = p.screenshot()\n",
    "    frames = np.array(img)\n",
    "    rgb = cv2.cvtColor(frames,cv2.COLOR_BGR2RGB)\n",
    "    Video.write(rgb)\n",
    "    if cv2.waitKey(1) & 0XFF == ord('q') :\n",
    "        break\n",
    "Video.release()\n",
    "cv2.destroyAllWindows()    \n",
    "\n"
   ]
  }
 ],
 "metadata": {
  "kernelspec": {
   "display_name": "base",
   "language": "python",
   "name": "python3"
  },
  "language_info": {
   "codemirror_mode": {
    "name": "ipython",
    "version": 3
   },
   "file_extension": ".py",
   "mimetype": "text/x-python",
   "name": "python",
   "nbconvert_exporter": "python",
   "pygments_lexer": "ipython3",
   "version": "3.7.13"
  },
  "orig_nbformat": 4
 },
 "nbformat": 4,
 "nbformat_minor": 2
}
