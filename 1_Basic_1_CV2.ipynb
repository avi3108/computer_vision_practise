{
 "cells": [
  {
   "cell_type": "code",
   "execution_count": 1,
   "metadata": {},
   "outputs": [],
   "source": [
    "import cv2"
   ]
  },
  {
   "cell_type": "code",
   "execution_count": 2,
   "metadata": {},
   "outputs": [
    {
     "name": "stderr",
     "output_type": "stream",
     "text": [
      "[ WARN:0@6.960] global /croot/opencv-suite_1676452025216/work/modules/imgcodecs/src/loadsave.cpp (239) findDecoder imread_('images/cat.17.jpg'): can't open/read file: check file path/integrity\n",
      "[ WARN:0@6.961] global /croot/opencv-suite_1676452025216/work/modules/imgcodecs/src/loadsave.cpp (239) findDecoder imread_('images/cat.17.jpg'): can't open/read file: check file path/integrity\n",
      "[ WARN:0@6.961] global /croot/opencv-suite_1676452025216/work/modules/imgcodecs/src/loadsave.cpp (239) findDecoder imread_('images/cat.17.jpg'): can't open/read file: check file path/integrity\n"
     ]
    },
    {
     "ename": "error",
     "evalue": "OpenCV(4.6.0) /croot/opencv-suite_1676452025216/work/modules/imgproc/src/resize.cpp:4052: error: (-215:Assertion failed) !ssize.empty() in function 'resize'\n",
     "output_type": "error",
     "traceback": [
      "\u001b[0;31m---------------------------------------------------------------------------\u001b[0m",
      "\u001b[0;31merror\u001b[0m                                     Traceback (most recent call last)",
      "Cell \u001b[0;32mIn[2], line 4\u001b[0m\n\u001b[1;32m      2\u001b[0m image1 \u001b[39m=\u001b[39m cv2\u001b[39m.\u001b[39mimread(\u001b[39m\"\u001b[39m\u001b[39mimages/cat.17.jpg\u001b[39m\u001b[39m\"\u001b[39m,\u001b[39m1\u001b[39m)\u001b[39m# origianl image with 3 channel colored image\u001b[39;00m\n\u001b[1;32m      3\u001b[0m image2 \u001b[39m=\u001b[39m cv2\u001b[39m.\u001b[39mimread(\u001b[39m\"\u001b[39m\u001b[39mimages/cat.17.jpg\u001b[39m\u001b[39m\"\u001b[39m,\u001b[39m-\u001b[39m\u001b[39m1\u001b[39m) \u001b[39m#original image 3 colord but with high satuarated \u001b[39;00m\n\u001b[0;32m----> 4\u001b[0m resized_img \u001b[39m=\u001b[39m cv2\u001b[39m.\u001b[39;49mresize(image, (\u001b[39m224\u001b[39;49m,\u001b[39m224\u001b[39;49m))\n\u001b[1;32m      5\u001b[0m \u001b[39mprint\u001b[39m(image)\n\u001b[1;32m      6\u001b[0m cv2\u001b[39m.\u001b[39mimshow(\u001b[39m\"\u001b[39m\u001b[39mwindows\u001b[39m\u001b[39m\"\u001b[39m,resized_img)\n",
      "\u001b[0;31merror\u001b[0m: OpenCV(4.6.0) /croot/opencv-suite_1676452025216/work/modules/imgproc/src/resize.cpp:4052: error: (-215:Assertion failed) !ssize.empty() in function 'resize'\n"
     ]
    }
   ],
   "source": [
    "image = cv2.imread(\"sample-images/cat.17.jpg\",0) #gray scale\n",
    "image1 = cv2.imread(\"sample-images/cat.17.jpg\",1)# origianl image with 3 channel colored image\n",
    "image2 = cv2.imread(\"sample-images/cat.17.jpg\",-1) #original image 3 colord but with high satuarated \n",
    "resized_img = cv2.resize(image, (224,224))\n",
    "print(image)\n",
    "cv2.imshow(\"windows\",resized_img)\n",
    "cv2.imshow(\"windows2\",image1)\n",
    "cv2.imshow(\"windows3\",image2)\n",
    "cv2.waitKey(0)\n",
    "cv2.destroyAllWindows()"
   ]
  },
  {
   "attachments": {},
   "cell_type": "markdown",
   "metadata": {},
   "source": [
    "Lets make a simple project , \n",
    "\n",
    "WAP : take a image and convert it into grapy scale image and save it"
   ]
  },
  {
   "cell_type": "code",
   "execution_count": null,
   "metadata": {},
   "outputs": [],
   "source": [
    "input_path = input(\"Enter the path of image:\")\n",
    "# images/cat.18.jpg\n",
    "read_img = cv2.imread(input_path,0)\n",
    "cv2.imshow(\"windows\",read_img)\n",
    "key = cv2.waitKey(0)\n",
    "print(key)\n",
    "if key == ord('s'):\n",
    "    cv2.imwrite(\"gar_image.jpg\",read_img)\n",
    "    cv2.destroyAllWindows()\n",
    "else:\n",
    "    cv2.destroyAllWindows()\n",
    "\n"
   ]
  },
  {
   "attachments": {},
   "cell_type": "markdown",
   "metadata": {},
   "source": [
    "lets work with flip function"
   ]
  },
  {
   "cell_type": "code",
   "execution_count": null,
   "metadata": {},
   "outputs": [],
   "source": [
    "fliped = cv2.flip(read_img,0)\n",
    "cv2.imshow(\"flipped image\",fliped)\n",
    "cv2.waitKey(0)\n",
    "cv2.destroyAllWindows()"
   ]
  },
  {
   "attachments": {},
   "cell_type": "markdown",
   "metadata": {},
   "source": [
    "read video in cv2"
   ]
  },
  {
   "cell_type": "markdown",
   "metadata": {},
   "source": []
  },
  {
   "cell_type": "code",
   "execution_count": 2,
   "metadata": {},
   "outputs": [],
   "source": [
    "import cv2 "
   ]
  },
  {
   "cell_type": "code",
   "execution_count": null,
   "metadata": {},
   "outputs": [],
   "source": [
    "video = cv2.VideoCapture(\"videos/sample.mp4\")\n",
    "while True:\n",
    "    ret , frame = video.read()\n",
    "    resize_frame = cv2.resize(frame,(224,224))\n",
    "    gray = cv2.cvtColor(resize_frame,cv2.COLOR_BGR2GRAY)\n",
    "    cv2.namedWindow(\"myVideo\")\n",
    "    cv2.imshow(\"myVideo\",gray)\n",
    "    k = cv2.waitKey(25) #playback speed  when you want to control speed of video pass the parameter in this function\n",
    "    if k == ord('q'):\n",
    "        break\n",
    "video.release()\n",
    "cv2.destroyAllWindows()"
   ]
  },
  {
   "attachments": {},
   "cell_type": "markdown",
   "metadata": {},
   "source": [
    "read video from webcam in cv2\n"
   ]
  },
  {
   "cell_type": "code",
   "execution_count": null,
   "metadata": {},
   "outputs": [],
   "source": [
    "video = cv2.VideoCapture()#pass 0 to access first camera connected to laptop\n",
    "while True:\n",
    "    ret , frame = video.read()\n",
    "    if ret == True:\n",
    "        resize_frame = cv2.resize(frame,(224,224))\n",
    "        gray = cv2.cvtColor(resize_frame,cv2.COLOR_BGR2GRAY)\n",
    "        cv2.imshow(\"myVideo\",gray)\n",
    "        k = cv2.waitKey(25) #playback speed  when you want to control speed of video pass the parameter in this function\n",
    "        if k == ord('q'):\n",
    "            break\n",
    "video.release()\n",
    "cv2.destroyAllWindows()"
   ]
  },
  {
   "attachments": {},
   "cell_type": "markdown",
   "metadata": {},
   "source": [
    "Save or write the video"
   ]
  },
  {
   "cell_type": "code",
   "execution_count": 26,
   "metadata": {},
   "outputs": [],
   "source": [
    "import cv2 \n",
    "video = cv2.VideoCapture(\"videos/sample.mp4\")\n",
    "width = int(100)\n",
    "height = int(100)\n",
    "size = (width,height)\n",
    "output = cv2.VideoWriter(\"output1.avi\",cv2.VideoWriter_fourcc(*'MJPG'),20,(224,224),0)\n",
    "\n",
    "\n",
    "while True:\n",
    "    ret , frame = video.read()\n",
    "    if ret == True:\n",
    "        gray = cv2.cvtColor(frame,cv2.COLOR_BGR2GRAY)\n",
    "        resizex = cv2.resize(gray,(224,224))\n",
    "        output.write(resizex)\n",
    "        if cv2.waitKey(1) & 0XFF == ord('q') :\n",
    "            break\n",
    "    else:\n",
    "        break\n",
    "video.release()\n",
    "output.release()"
   ]
  },
  {
   "attachments": {},
   "cell_type": "markdown",
   "metadata": {},
   "source": [
    "access camera through your mobile phone using p camera app \n"
   ]
  },
  {
   "attachments": {},
   "cell_type": "markdown",
   "metadata": {},
   "source": [
    "access camera throw your mobile phone \n",
    "using ip camera , make sure both device in same network\n",
    "very important step is while giving size use video.get(3),and videi.get(4) or \n",
    "use cv2.resize() in loop and give same size at videowriter and in resize function"
   ]
  },
  {
   "cell_type": "code",
   "execution_count": 1,
   "metadata": {},
   "outputs": [],
   "source": [
    "import cv2 \n",
    "camera = \"http://192.168.1.67:8080/video\"\n",
    "video = cv2.VideoCapture(0)\n",
    "video.open(camera)\n",
    "width = int(video.get(3))\n",
    "height = int(video.get(4))\n",
    "size = (width,height)\n",
    "output = cv2.VideoWriter(\"output2.avi\",cv2.VideoWriter_fourcc(*'MJPG'),20,size,0)\n",
    "\n",
    "\n",
    "while True:\n",
    "    ret , frame = video.read()\n",
    "    if ret == True:\n",
    "        gray = cv2.cvtColor(frame,cv2.COLOR_BGR2GRAY)\n",
    "        # resizex = cv2.resize(gray,(224,224))\n",
    "        output.write(gray)\n",
    "        if cv2.waitKey(1) & 0XFF == ord('q') :\n",
    "            break\n",
    "    else:\n",
    "        break\n",
    "video.release()\n",
    "output.release()"
   ]
  },
  {
   "attachments": {},
   "cell_type": "markdown",
   "metadata": {},
   "source": [
    "read video from youtube link\n"
   ]
  },
  {
   "cell_type": "code",
   "execution_count": null,
   "metadata": {},
   "outputs": [],
   "source": [
    "import pafy\n",
    "URL = \"https://www.youtube.com/watch?v=snYu2JUqSWs\"\n",
    "data = pafy.new(URL)\n",
    "data = data.getbestvideo(preftype=\"mp4\")\n",
    "\n",
    "video = cv2.VideoCapture(0)\n",
    "video.open(data)\n",
    "\n",
    "while True:\n",
    "    ret , frame = video.read()\n",
    "    if ret == True:\n",
    "        gray = cv2.cvtColor(frame,cv2.COLOR_BGR2GRAY)\n",
    "        # resizex = cv2.resize(gray,(224,224))\n",
    "        output.write(gray)\n",
    "        if cv2.waitKey(1) & 0XFF == ord('q') :\n",
    "            break\n",
    "    else:\n",
    "        break\n",
    "video.release()\n",
    "output.release()\n",
    "\n"
   ]
  },
  {
   "cell_type": "code",
   "execution_count": null,
   "metadata": {},
   "outputs": [],
   "source": []
  }
 ],
 "metadata": {
  "kernelspec": {
   "display_name": "Python 3.7.13 ('base')",
   "language": "python",
   "name": "python3"
  },
  "language_info": {
   "codemirror_mode": {
    "name": "ipython",
    "version": 3
   },
   "file_extension": ".py",
   "mimetype": "text/x-python",
   "name": "python",
   "nbconvert_exporter": "python",
   "pygments_lexer": "ipython3",
   "version": "3.8.16"
  },
  "orig_nbformat": 4,
  "vscode": {
   "interpreter": {
    "hash": "146d8846a7a671f14a52572341ae3d686be6aad2eb4af8271194ae862a45bab5"
   }
  }
 },
 "nbformat": 4,
 "nbformat_minor": 2
}
